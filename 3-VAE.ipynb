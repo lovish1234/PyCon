{
 "cells": [
  {
   "cell_type": "markdown",
   "metadata": {},
   "source": [
    "### Latent Variable Models\n",
    "\n",
    "Consider the <a href=\"http://yann.lecun.com/exdb/mnist/\"> MNIST dataset </a>\n",
    "\n",
    "<img src=\"images/mnist_dataset.png\"\n",
    "     alt=\"The head and torso of a dinosaur skeleton;\n",
    "          it has a large head with long sharp teeth\"\n",
    "     width=\"200\"\n",
    "     height=\"170\"\n",
    "     align=\"left\">"
   ]
  },
  {
   "cell_type": "markdown",
   "metadata": {},
   "source": [
    "How can we transform a simple distribution into another distribution underlying the digits ? \n",
    "How can we say that we have found the distribution which underlies the digits ?\n",
    "\n",
    "#### Maximum Likelihood Estimation\n",
    "\n",
    "Given a model and it's parameters, how high is the possibility that the generated instances are sampled from the model. In terms of probability, we can write it as :-\n",
    "\n",
    "$$ p(S | \\theta)$$ where $S$ are the observed samples and $\\theta$ are the parameters of the model. For our model to work well, we want to maximize this probability.\n",
    "\n",
    "$$  \\theta_{MLE}  = arg\\max_{\\substack{\\theta}} p(S | \\theta)$$"
   ]
  },
  {
   "cell_type": "markdown",
   "metadata": {},
   "source": [
    "#### p(S) is difficult to compute\n",
    "\n",
    "Let's load some essential liberaries first"
   ]
  },
  {
   "cell_type": "code",
   "execution_count": 13,
   "metadata": {},
   "outputs": [
    {
     "name": "stdout",
     "output_type": "stream",
     "text": [
      "The autoreload extension is already loaded. To reload it, use:\n",
      "  %reload_ext autoreload\n"
     ]
    }
   ],
   "source": [
    "import sys\n",
    "sys.path.append('lib/mnist/')\n",
    "from mnist import train_images, train_labels\n",
    "\n",
    "%load_ext autoreload\n",
    "%autoreload 2\n",
    "\n",
    "from scipy import misc\n",
    "import numpy as np\n",
    "import matplotlib.pyplot as plt"
   ]
  },
  {
   "cell_type": "code",
   "execution_count": 9,
   "metadata": {},
   "outputs": [],
   "source": [
    "images = train_images()             # download and import images to temporary directory"
   ]
  },
  {
   "cell_type": "code",
   "execution_count": 10,
   "metadata": {},
   "outputs": [
    {
     "data": {
      "image/png": "[encoded data removed]",
      "text/plain": [
       "<PIL.Image.Image image mode=L size=28x28 at 0x109303450>"
      ]
     },
     "execution_count": 10,
     "metadata": {},
     "output_type": "execute_result"
    }
   ],
   "source": [
    "mean_image = numpy.mean(images, axis=0)\n",
    "misc.toimage(mean_image)                        # taking the mean image"
   ]
  },
  {
   "cell_type": "markdown",
   "metadata": {},
   "source": [
    "Standard set of distributions ie Gaussian distribution is not expressive enough of the whole dataset. There are latent factors available within the dataset which help us in unsupervised learning tasks. This may be the class of the digit or the skewness or rotation of the digit, position of the digit on the canvas. "
   ]
  },
  {
   "cell_type": "markdown",
   "metadata": {},
   "source": [
    "#### p(S| S is a 1) is relatively easy to compute"
   ]
  },
  {
   "cell_type": "code",
   "execution_count": 11,
   "metadata": {},
   "outputs": [],
   "source": [
    "labels = train_labels()"
   ]
  },
  {
   "cell_type": "code",
   "execution_count": 20,
   "metadata": {},
   "outputs": [
    {
     "data": {
      "image/png": "[encoded data removed]",
      "text/plain": [
       "<matplotlib.figure.Figure at 0x107ed43d0>"
      ]
     },
     "metadata": {},
     "output_type": "display_data"
    }
   ],
   "source": [
    "fig = plt.figure()\n",
    "\n",
    "for i in range(10):\n",
    "    class_images = images[np.equal(labels,i)]\n",
    "    mean_image = numpy.mean(class_images, axis=0)\n",
    "    disp_image = misc.toimage(mean_image)\n",
    "    \n",
    "    a = fig.add_subplot(1,10,i+1)\n",
    "    a.axis('off')\n",
    "    imgplot = plt.imshow(disp_image, cmap='gray')\n",
    "plt.show()"
   ]
  },
  {
   "cell_type": "markdown",
   "metadata": {},
   "source": [
    "If we know the labelled data, the means are fairly recoganizable. This leads to the hypothesis that learning the joint distribution is much easier if we know some \"extra information\" about it. This information is usually not available to us directly but it is hidden in the dataset. We call it **latent** information stored in a **latent** variable.\n",
    "\n",
    "$$p(x|\\theta) = \\int p(z|\\theta) \\hspace{0.1in} p(x|z,\\theta) \\hspace{0.1in} dz$$\n",
    "\n",
    "We know that $p(x|z,\\theta)$ is relatively easy to compute from the above example but any latent information is missing. Analytically we have :-\n",
    "\n",
    "Let $z \\in \\{0 \\cdots 9\\}$ indicates the digit. We have $ p(z=k) = P_{k}$ with $P_{k}\\geq0$ and $\\sum_{k} P_{k} = 1$. \n",
    "\n",
    "$p(x|z=k) = \\mathcal{N}(x | \\mu_{k}\\sigma_{k})$. As we need to get the Maximum Likelihood Estimate of $p(x|\\theta)$\n",
    "\n",
    "$$ p(x|\\theta) = \\int p(z|\\theta) \\hspace{0.1in} p(x|z,\\theta) \\hspace{0.1in} dz =  \\sum_{k=0}^{9} P_{k} \\hspace{0.05in}*\\mathcal{N}(x | \\mu_{k}\\sigma_{k}) $$.\n",
    "\n",
    "$$ arg\\max_{\\substack{\\theta}}\\ln p(x|\\theta) = \\sum_{n=1}^{N} \\ln \\sum_{k=0}^{9} P_{k} \\hspace{0.05in}*\\mathcal{N}(x | \\mu_{k}\\sigma_{k}) $$"
   ]
  },
  {
   "cell_type": "markdown",
   "metadata": {},
   "source": [
    "#### Sum over log is difficult to optimize "
   ]
  },
  {
   "cell_type": "markdown",
   "metadata": {},
   "source": [
    "### MLE for Gaussian Distribution "
   ]
  },
  {
   "cell_type": "markdown",
   "metadata": {},
   "source": [
    "### MLE for mixture of Gaussians"
   ]
  },
  {
   "cell_type": "markdown",
   "metadata": {},
   "source": [
    "### Expectation Maximization"
   ]
  },
  {
   "cell_type": "code",
   "execution_count": null,
   "metadata": {},
   "outputs": [],
   "source": []
  }
 ],
 "metadata": {
  "kernelspec": {
   "display_name": "Python 2",
   "language": "python",
   "name": "python2"
  },
  "language_info": {
   "codemirror_mode": {
    "name": "ipython",
    "version": 2
   },
   "file_extension": ".py",
   "mimetype": "text/x-python",
   "name": "python",
   "nbconvert_exporter": "python",
   "pygments_lexer": "ipython2",
   "version": "2.7.13"
  }
 },
 "nbformat": 4,
 "nbformat_minor": 2
}
