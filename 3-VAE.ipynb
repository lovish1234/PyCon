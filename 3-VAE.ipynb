{
 "cells": [
  {
   "cell_type": "markdown",
   "metadata": {},
   "source": [
    "### Latent Variable Models\n",
    "\n",
    "Consider the <a href=\"http://yann.lecun.com/exdb/mnist/\"> MNIST dataset </a>\n",
    "\n",
    "<img src=\"images/mnist_dataset.png\"\n",
    "     alt=\"The head and torso of a dinosaur skeleton;\n",
    "          it has a large head with long sharp teeth\"\n",
    "     width=\"200\"\n",
    "     height=\"170\"\n",
    "     align=\"left\">"
   ]
  },
  {
   "cell_type": "markdown",
   "metadata": {},
   "source": [
    "How can we transform a simple distribution into another distribution underlying the digits ? \n",
    "How can we say that we have found the distribution which underlies the digits ?\n",
    "\n",
    "#### Maximum Likelihood Estimation\n",
    "\n",
    "Given a model and it's parameters, how high is the possibility that the generated instances are sampled from the model. In terms of probability, we can write it as :-\n",
    "\n",
    "$$ p(S | \\theta)$$ where $S$ are the observed samples and $\\theta$ are the parameters of the model. For our model to work well, we want to maximize this probability.\n",
    "\n",
    "$$  \\theta_{MLE}  = arg\\max_{\\substack{\\theta}} p(S | \\theta)$$"
   ]
  },
  {
   "cell_type": "markdown",
   "metadata": {},
   "source": [
    "#### p(S) is difficult to compute\n",
    "\n",
    "Let's load some essential liberaries first"
   ]
  },
  {
   "cell_type": "code",
   "execution_count": 34,
   "metadata": {},
   "outputs": [
    {
     "name": "stdout",
     "output_type": "stream",
     "text": [
      "The autoreload extension is already loaded. To reload it, use:\n",
      "  %reload_ext autoreload\n"
     ]
    }
   ],
   "source": [
    "import sys\n",
    "sys.path.append('lib/mnist/')\n",
    "from mnist import train_images, train_labels\n",
    "\n",
    "%load_ext autoreload\n",
    "%autoreload 2\n",
    "\n",
    "import scipy\n",
    "import numpy\n",
    "import matplotlib"
   ]
  },
  {
   "cell_type": "code",
   "execution_count": 35,
   "metadata": {},
   "outputs": [],
   "source": [
    "images = train_images()             # download and import images to temporaty directory"
   ]
  },
  {
   "cell_type": "code",
   "execution_count": 36,
   "metadata": {},
   "outputs": [
    {
     "data": {
      "image/png": "[encoded data removed]",
      "text/plain": [
       "<PIL.Image.Image image mode=L size=28x28 at 0x109D1EBD0>"
      ]
     },
     "execution_count": 36,
     "metadata": {},
     "output_type": "execute_result"
    }
   ],
   "source": [
    "mean_image = numpy.mean(images, axis=0)\n",
    "scipy.misc.toimage(mean_image)                        # taking the mean image"
   ]
  },
  {
   "cell_type": "markdown",
   "metadata": {},
   "source": [
    "#### p(S| S is a 1) is relatively easy to compute"
   ]
  },
  {
   "cell_type": "code",
   "execution_count": 37,
   "metadata": {},
   "outputs": [],
   "source": [
    "labels = train_labels()"
   ]
  },
  {
   "cell_type": "code",
   "execution_count": 51,
   "metadata": {},
   "outputs": [],
   "source": [
    "for i in range(10):\n",
    "    class_images = images[np.equal(labels,i)]\n",
    "    mean_image = numpy.mean(class_images, axis=0)\n",
    "    scipy.misc.toimage(mean_image)"
   ]
  },
  {
   "cell_type": "code",
   "execution_count": null,
   "metadata": {},
   "outputs": [],
   "source": []
  }
 ],
 "metadata": {
  "kernelspec": {
   "display_name": "Python 2",
   "language": "python",
   "name": "python2"
  },
  "language_info": {
   "codemirror_mode": {
    "name": "ipython",
    "version": 2
   },
   "file_extension": ".py",
   "mimetype": "text/x-python",
   "name": "python",
   "nbconvert_exporter": "python",
   "pygments_lexer": "ipython2",
   "version": "2.7.13"
  }
 },
 "nbformat": 4,
 "nbformat_minor": 2
}
